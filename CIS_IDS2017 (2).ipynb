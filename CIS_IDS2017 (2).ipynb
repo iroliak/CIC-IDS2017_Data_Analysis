{
 "cells": [
  {
   "cell_type": "markdown",
   "metadata": {
    "id": "1FFia7MZlhWG"
   },
   "source": [
    "## Ανάλυση του CIS-IDS2017 Dataset\n",
    "---"
   ]
  },
  {
   "cell_type": "markdown",
   "metadata": {
    "id": "KF18QMzloZ51"
   },
   "source": [
    "##Σύντομη Περιγραφή"
   ]
  },
  {
   "cell_type": "markdown",
   "metadata": {
    "id": "40Hx3BVWo3IH"
   },
   "source": [
    "Το CIC-IDS2017 (Canadian Institute for Cybersecurity - Intrusion Detection System 2017) είναι ένα σύνολο δεδομένων που δημιουργήθηκε για την αξιολόγηση των συστημάτων ανίχνευσης εισβολών (IDS). Ο σκοπός του είναι να παρέχει ένα περιβάλλον για την ανάλυση των συμπεριφορών δικτύου και την ανάπτυξη αλγορίθμων μηχανικής μάθησης που μπορούν να ανιχνεύσουν κακόβουλες δραστηριότητες σε δίκτυα.\n",
    "\n",
    "**Περιεχόμενο:**\n",
    "Το CIC-IDS2017 περιλαμβάνει ένα ευρύ φάσμα δικτυακών επιθέσεων, όπως DDoS, Brute Force, Infiltration, και άλλες επιθέσεις, καθώς και φυσιολογική κυκλοφορία δικτύου. Τα δεδομένα περιέχουν διάφορες μετρήσεις και χαρακτηριστικά δικτύου, όπως χρόνους ροής, μεγέθη πακέτων, και χρονικές σφραγίδες.\n",
    "\n",
    "**Εφαρμογές:**\n",
    "Το dataset χρησιμοποιείται ευρέως στην έρευνα για την ανάπτυξη και αξιολόγηση μοντέλων μηχανικής μάθησης που μπορούν να ανιχνεύσουν και να κατατάξουν κακόβουλες δραστηριότητες σε δίκτυα. Είναι ιδιαίτερα χρήσιμο για την εκπαίδευση, τον έλεγχο και την αξιολόγηση συστημάτων ανίχνευσης εισβολών.\n",
    "\n",
    "**Χαρακτηριστικά:**\n",
    "Το CIC-IDS2017 είναι μια συλλογή δεδομένων πραγματικού κόσμου, που περιλαμβάνει περίπου 80 χαρακτηριστικά ανά ροή δικτύου, όπως αριθμός πακέτων, μέσο μέγεθος πακέτου, διάρκεια ροής, κ.λπ. Τα δεδομένα είναι κατηγοριοποιημένα σε επιθέσεις και φυσιολογικές ροές."
   ]
  },
  {
   "cell_type": "markdown",
   "metadata": {
    "id": "9uDUXfEeow8P"
   },
   "source": [
    "##Πρακτική Εφαρμογή"
   ]
  },
  {
   "cell_type": "code",
   "execution_count": 6,
   "metadata": {
    "colab": {
     "base_uri": "https://localhost:8080/"
    },
    "id": "JpokQG0WmT77",
    "outputId": "231e160a-d65a-4ab8-bc8e-d7edc1d9053e"
   },
   "outputs": [
    {
     "name": "stdout",
     "output_type": "stream",
     "text": [
      "    Destination Port   Flow Duration   Total Fwd Packets  \\\n",
      "0                 22             166                   1   \n",
      "1              60148              83                   1   \n",
      "2                123           99947                   1   \n",
      "3                123           37017                   1   \n",
      "4                  0       111161336                 147   \n",
      "\n",
      "    Total Backward Packets  Total Length of Fwd Packets  \\\n",
      "0                        1                            0   \n",
      "1                        2                            0   \n",
      "2                        1                           48   \n",
      "3                        1                           48   \n",
      "4                        0                            0   \n",
      "\n",
      "    Total Length of Bwd Packets   Fwd Packet Length Max  \\\n",
      "0                             0                       0   \n",
      "1                             0                       0   \n",
      "2                            48                      48   \n",
      "3                            48                      48   \n",
      "4                             0                       0   \n",
      "\n",
      "    Fwd Packet Length Min   Fwd Packet Length Mean   Fwd Packet Length Std  \\\n",
      "0                       0                      0.0                     0.0   \n",
      "1                       0                      0.0                     0.0   \n",
      "2                      48                     48.0                     0.0   \n",
      "3                      48                     48.0                     0.0   \n",
      "4                       0                      0.0                     0.0   \n",
      "\n",
      "   ...   min_seg_size_forward  Active Mean   Active Std   Active Max  \\\n",
      "0  ...                     32        0.000        0.000            0   \n",
      "1  ...                     32        0.000        0.000            0   \n",
      "2  ...                     40        0.000        0.000            0   \n",
      "3  ...                     32        0.000        0.000            0   \n",
      "4  ...                      0  1753752.625  2123197.578      4822992   \n",
      "\n",
      "    Active Min  Idle Mean     Idle Std   Idle Max   Idle Min   Label  \n",
      "0            0        0.0        0.000          0          0  BENIGN  \n",
      "1            0        0.0        0.000          0          0  BENIGN  \n",
      "2            0        0.0        0.000          0          0  BENIGN  \n",
      "3            0        0.0        0.000          0          0  BENIGN  \n",
      "4           95  9463032.7  2657727.996   13600000    5700287  BENIGN  \n",
      "\n",
      "[5 rows x 79 columns]\n"
     ]
    }
   ],
   "source": [
    "import os\n",
    "import pandas as pd\n",
    "from sklearn.model_selection import train_test_split\n",
    "from sklearn.preprocessing import StandardScaler, LabelEncoder\n",
    "from sklearn.decomposition import PCA\n",
    "from sklearn.naive_bayes import GaussianNB\n",
    "from sklearn.tree import DecisionTreeClassifier\n",
    "from sklearn.neighbors import KNeighborsClassifier\n",
    "from sklearn.linear_model import LogisticRegression\n",
    "from sklearn.metrics import classification_report, accuracy_score, precision_score, recall_score, f1_score\n",
    "import matplotlib.pyplot as plt\n",
    "\n",
    "# Ορισμός του μονοπατιού του φακέλου που περιέχει τα CSV αρχεία\n",
    "folder_path = '/Users/iroliakakou/Downloads/MachineLearningCVE/'  # Αντικατέστησε με το πραγματικό μονοπάτι\n",
    "\n",
    "# Λίστα με όλα τα CSV αρχεία\n",
    "csv_files = [os.path.join(folder_path, f) for f in os.listdir(folder_path) if f.endswith('.csv')]\n",
    "\n",
    "# Ανάγνωση και συγχώνευση όλων των CSV αρχείων σε ένα DataFrame\n",
    "df_list = [pd.read_csv(file) for file in csv_files]\n",
    "df = pd.concat(df_list, ignore_index=True)\n",
    "\n",
    "# Προβολή των πρώτων γραμμών του DataFrame για να επιβεβαιώσουμε ότι φορτώθηκε σωστά\n",
    "print(df.head())\n"
   ]
  },
  {
   "cell_type": "markdown",
   "metadata": {
    "id": "98skkP7fmb71"
   },
   "source": [
    "Προεπεξεργασία - Διατήρηση Χρήσιμων Στηλών"
   ]
  },
  {
   "cell_type": "code",
   "execution_count": 56,
   "metadata": {
    "colab": {
     "base_uri": "https://localhost:8080/"
    },
    "id": "BMbzkED-mc3z",
    "outputId": "0a30bb7d-8069-4108-f327-2f034e6bc9f4"
   },
   "outputs": [
    {
     "name": "stdout",
     "output_type": "stream",
     "text": [
      "    Destination Port   Flow Duration   Total Fwd Packets  \\\n",
      "0                 22             166                   1   \n",
      "1              60148              83                   1   \n",
      "2                123           99947                   1   \n",
      "3                123           37017                   1   \n",
      "4                  0       111161336                 147   \n",
      "\n",
      "    Total Backward Packets  Total Length of Fwd Packets  \\\n",
      "0                        1                            0   \n",
      "1                        2                            0   \n",
      "2                        1                           48   \n",
      "3                        1                           48   \n",
      "4                        0                            0   \n",
      "\n",
      "    Total Length of Bwd Packets   Fwd Packet Length Max  \\\n",
      "0                             0                       0   \n",
      "1                             0                       0   \n",
      "2                            48                      48   \n",
      "3                            48                      48   \n",
      "4                             0                       0   \n",
      "\n",
      "    Fwd Packet Length Min   Fwd Packet Length Mean   Fwd Packet Length Std  \\\n",
      "0                       0                      0.0                     0.0   \n",
      "1                       0                      0.0                     0.0   \n",
      "2                      48                     48.0                     0.0   \n",
      "3                      48                     48.0                     0.0   \n",
      "4                       0                      0.0                     0.0   \n",
      "\n",
      "   ...   act_data_pkt_fwd   min_seg_size_forward  Active Mean   Active Std  \\\n",
      "0  ...                  0                     32        0.000        0.000   \n",
      "1  ...                  0                     32        0.000        0.000   \n",
      "2  ...                  0                     40        0.000        0.000   \n",
      "3  ...                  0                     32        0.000        0.000   \n",
      "4  ...                  0                      0  1753752.625  2123197.578   \n",
      "\n",
      "    Active Max   Active Min  Idle Mean     Idle Std   Idle Max   Idle Min  \n",
      "0            0            0        0.0        0.000          0          0  \n",
      "1            0            0        0.0        0.000          0          0  \n",
      "2            0            0        0.0        0.000          0          0  \n",
      "3            0            0        0.0        0.000          0          0  \n",
      "4      4822992           95  9463032.7  2657727.996   13600000    5700287  \n",
      "\n",
      "[5 rows x 78 columns]\n",
      "0    BENIGN\n",
      "1    BENIGN\n",
      "2    BENIGN\n",
      "3    BENIGN\n",
      "4    BENIGN\n",
      "Name:  Label, dtype: object\n"
     ]
    }
   ],
   "source": [
    "# Επιλογή των χαρακτηριστικών (X) και του στόχου (y)\n",
    "X = df.drop(' Label', axis=1)  # Όλες οι στήλες εκτός από το ' Label'\n",
    "y = df[' Label']  # Στήλη στόχου\n",
    "\n",
    "# Εξέταση των πρώτων γραμμών του X και του y για να επιβεβαιώσουμε ότι ορίστηκαν σωστά\n",
    "print(X.head())\n",
    "print(y.head())\n"
   ]
  },
  {
   "cell_type": "markdown",
   "metadata": {
    "id": "fjVitElrmgHQ"
   },
   "source": [
    "Διαμερισμός του Dataset σε Training και Test Sets"
   ]
  },
  {
   "cell_type": "code",
   "execution_count": 57,
   "metadata": {
    "colab": {
     "base_uri": "https://localhost:8080/"
    },
    "id": "vlIx66tgmimC",
    "outputId": "381b607a-7d2d-42c3-9bef-a2de5db8f477"
   },
   "outputs": [
    {
     "name": "stdout",
     "output_type": "stream",
     "text": [
      "Training set size: 2264594 samples\n",
      "Test set size: 566149 samples\n"
     ]
    }
   ],
   "source": [
    "from sklearn.model_selection import train_test_split\n",
    "\n",
    "# Διαχωρισμός των δεδομένων σε training και test sets\n",
    "X_train, X_test, y_train, y_test = train_test_split(X, y, test_size=0.2, random_state=42, stratify=y)\n",
    "\n",
    "# Εξέταση των μεγεθών των σετ για να επιβεβαιώσουμε ότι έγινε σωστά ο διαμερισμός\n",
    "print(f'Training set size: {X_train.shape[0]} samples')\n",
    "print(f'Test set size: {X_test.shape[0]} samples')\n"
   ]
  },
  {
   "cell_type": "markdown",
   "metadata": {
    "id": "8hpeyDh-8bqF"
   },
   "source": [
    "Εντοπισμός και Αντιμετώπιση Απειρων ή Πολύ Μεγάλων Τιμών"
   ]
  },
  {
   "cell_type": "code",
   "execution_count": 58,
   "metadata": {
    "colab": {
     "base_uri": "https://localhost:8080/"
    },
    "id": "ujromQm-8Y89",
    "outputId": "5f47ae46-1a60-4f3d-820b-b8c83a3d4abe"
   },
   "outputs": [
    {
     "name": "stdout",
     "output_type": "stream",
     "text": [
      "Checking for infinite values...\n",
      "3429\n",
      "Checking for NaN values...\n",
      "1065\n"
     ]
    }
   ],
   "source": [
    "import numpy as np\n",
    "\n",
    "# Εντοπισμός απείρων τιμών\n",
    "print(\"Checking for infinite values...\")\n",
    "print(np.isinf(X_train).sum().sum())\n",
    "\n",
    "# Εντοπισμός NaN τιμών\n",
    "print(\"Checking for NaN values...\")\n",
    "print(np.isnan(X_train).sum().sum())\n",
    "\n",
    "# Αντικατάσταση απείρων τιμών με NaN\n",
    "X_train.replace([np.inf, -np.inf], np.nan, inplace=True)\n",
    "X_test.replace([np.inf, -np.inf], np.nan, inplace=True)\n",
    "\n",
    "# Αντικατάσταση ή αφαίρεση των NaN τιμών\n",
    "X_train.fillna(X_train.mean(), inplace=True)\n",
    "X_test.fillna(X_test.mean(), inplace=True)"
   ]
  },
  {
   "cell_type": "markdown",
   "metadata": {
    "id": "2ja44ebmmlIY"
   },
   "source": [
    "Κλιμάκωση των Αριθμητικών Ιδιοτήτων (Scaling)"
   ]
  },
  {
   "cell_type": "code",
   "execution_count": 59,
   "metadata": {
    "id": "jvQ5hXWsmpbr"
   },
   "outputs": [],
   "source": [
    "from sklearn.preprocessing import StandardScaler\n",
    "\n",
    "# Κλιμάκωση των αριθμητικών χαρακτηριστικών\n",
    "scaler = StandardScaler()\n",
    "X_train_scaled = scaler.fit_transform(X_train)\n",
    "X_test_scaled = scaler.transform(X_test)"
   ]
  },
  {
   "cell_type": "markdown",
   "metadata": {
    "id": "SgsuyGO6mr-4"
   },
   "source": [
    "Κωδικοποίηση των Κατηγορικών Στηλών"
   ]
  },
  {
   "cell_type": "code",
   "execution_count": 60,
   "metadata": {
    "id": "HQob5OMtmvpz"
   },
   "outputs": [],
   "source": [
    "# Κωδικοποίηση της στήλης στόχου\n",
    "encoder = LabelEncoder()\n",
    "y_train_encoded = encoder.fit_transform(y_train)\n",
    "y_test_encoded = encoder.transform(y_test)"
   ]
  },
  {
   "cell_type": "code",
   "execution_count": 61,
   "metadata": {},
   "outputs": [],
   "source": [
    "# Μείωση της διάστασης με χρήση PCA\n",
    "pca = PCA(n_components=10)  # Ρύθμισε τον αριθμό των συνιστωσών ανάλογα με τις ανάγκες σου\n",
    "X_train_pca = pca.fit_transform(X_train_scaled)\n",
    "X_test_pca = pca.transform(X_test_scaled)"
   ]
  },
  {
   "cell_type": "code",
   "execution_count": 66,
   "metadata": {},
   "outputs": [],
   "source": [
    "# Χρήση λιγότερων συνιστωσών στο PCA\n",
    "pca = PCA(n_components=5)  # Χρήση λιγότερων συνιστωσών\n",
    "X_train_pca = pca.fit_transform(X_train_scaled)\n",
    "X_test_pca = pca.transform(X_test_scaled)"
   ]
  },
  {
   "cell_type": "markdown",
   "metadata": {
    "id": "Vgm-xoqQm3IT"
   },
   "source": [
    "Εφαρμογή Classifiers"
   ]
  },
  {
   "cell_type": "code",
   "execution_count": 67,
   "metadata": {
    "id": "57xrU_QWm5mn"
   },
   "outputs": [
    {
     "name": "stdout",
     "output_type": "stream",
     "text": [
      "Naive Bayes:\n",
      "               precision    recall  f1-score   support\n",
      "\n",
      "           0       0.93      0.27      0.41    454620\n",
      "           1       0.00      0.00      0.00       393\n",
      "           2       0.58      0.48      0.53     25606\n",
      "           3       0.10      0.05      0.07      2059\n",
      "           4       0.80      0.61      0.69     46215\n",
      "           5       0.02      0.04      0.03      1100\n",
      "           6       0.03      0.22      0.05      1159\n",
      "           7       0.01      0.49      0.02      1588\n",
      "           8       1.00      0.00      0.00         2\n",
      "           9       0.00      0.29      0.00         7\n",
      "          10       0.12      0.98      0.21     31786\n",
      "          11       0.00      0.03      0.01      1179\n",
      "          12       1.00      0.00      0.00       301\n",
      "          13       1.00      0.00      0.00         4\n",
      "          14       1.00      0.00      0.00       130\n",
      "\n",
      "    accuracy                           0.34    566149\n",
      "   macro avg       0.44      0.23      0.13    566149\n",
      "weighted avg       0.85      0.34      0.42    566149\n",
      "\n",
      "Decision Tree:\n",
      "               precision    recall  f1-score   support\n",
      "\n",
      "           0       0.98      1.00      0.99    454620\n",
      "           1       0.47      0.55      0.50       393\n",
      "           2       0.99      0.99      0.99     25606\n",
      "           3       0.86      0.88      0.87      2059\n",
      "           4       0.98      0.87      0.92     46215\n",
      "           5       0.94      0.92      0.93      1100\n",
      "           6       0.96      0.95      0.96      1159\n",
      "           7       0.98      0.99      0.98      1588\n",
      "           8       1.00      0.00      0.00         2\n",
      "           9       0.33      0.29      0.31         7\n",
      "          10       0.99      0.99      0.99     31786\n",
      "          11       0.94      0.94      0.94      1179\n",
      "          12       0.58      0.30      0.39       301\n",
      "          13       1.00      0.00      0.00         4\n",
      "          14       0.29      0.12      0.17       130\n",
      "\n",
      "    accuracy                           0.98    566149\n",
      "   macro avg       0.82      0.65      0.66    566149\n",
      "weighted avg       0.98      0.98      0.98    566149\n",
      "\n",
      "K-Neighbors:\n",
      "               precision    recall  f1-score   support\n",
      "\n",
      "           0       1.00      0.99      0.99    454620\n",
      "           1       0.55      0.46      0.50       393\n",
      "           2       0.99      0.99      0.99     25606\n",
      "           3       0.91      0.92      0.91      2059\n",
      "           4       0.98      0.98      0.98     46215\n",
      "           5       0.95      0.97      0.96      1100\n",
      "           6       0.94      0.97      0.96      1159\n",
      "           7       0.99      0.99      0.99      1588\n",
      "           8       1.00      0.00      0.00         2\n",
      "           9       1.00      0.00      0.00         7\n",
      "          10       0.95      0.97      0.96     31786\n",
      "          11       0.95      0.97      0.96      1179\n",
      "          12       0.73      0.43      0.54       301\n",
      "          13       1.00      0.00      0.00         4\n",
      "          14       0.48      0.29      0.36       130\n",
      "\n",
      "    accuracy                           0.99    566149\n",
      "   macro avg       0.90      0.66      0.67    566149\n",
      "weighted avg       0.99      0.99      0.99    566149\n",
      "\n"
     ]
    },
    {
     "name": "stderr",
     "output_type": "stream",
     "text": [
      "/opt/anaconda3/lib/python3.11/site-packages/sklearn/linear_model/_logistic.py:458: ConvergenceWarning: lbfgs failed to converge (status=1):\n",
      "STOP: TOTAL NO. of ITERATIONS REACHED LIMIT.\n",
      "\n",
      "Increase the number of iterations (max_iter) or scale the data as shown in:\n",
      "    https://scikit-learn.org/stable/modules/preprocessing.html\n",
      "Please also refer to the documentation for alternative solver options:\n",
      "    https://scikit-learn.org/stable/modules/linear_model.html#logistic-regression\n",
      "  n_iter_i = _check_optimize_result(\n"
     ]
    },
    {
     "name": "stdout",
     "output_type": "stream",
     "text": [
      "Logistic Regression:\n",
      "               precision    recall  f1-score   support\n",
      "\n",
      "           0       0.91      0.98      0.95    454620\n",
      "           1       0.25      0.01      0.01       393\n",
      "           2       0.81      0.50      0.62     25606\n",
      "           3       0.01      0.00      0.00      2059\n",
      "           4       0.79      0.68      0.73     46215\n",
      "           5       0.00      0.00      0.00      1100\n",
      "           6       0.00      0.00      0.00      1159\n",
      "           7       1.00      0.00      0.00      1588\n",
      "           8       1.00      0.00      0.00         2\n",
      "           9       0.50      0.29      0.36         7\n",
      "          10       0.89      0.61      0.73     31786\n",
      "          11       1.00      0.00      0.00      1179\n",
      "          12       1.00      0.00      0.00       301\n",
      "          13       1.00      0.00      0.00         4\n",
      "          14       1.00      0.00      0.00       130\n",
      "\n",
      "    accuracy                           0.90    566149\n",
      "   macro avg       0.68      0.20      0.23    566149\n",
      "weighted avg       0.89      0.90      0.89    566149\n",
      "\n"
     ]
    }
   ],
   "source": [
    "# Χρήση μικρότερου δείγματος των δεδομένων\n",
    "X_train_sample, _, y_train_sample, _ = train_test_split(X_train_pca, y_train_encoded, test_size=0.9, random_state=42)\n",
    "\n",
    "# Naive Bayes\n",
    "nb.fit(X_train_sample, y_train_sample)\n",
    "nb_predictions = nb.predict(X_test_pca)\n",
    "print(\"Naive Bayes:\\n\", classification_report(y_test_encoded, nb_predictions, zero_division=1))\n",
    "\n",
    "# Decision Tree\n",
    "dt.fit(X_train_sample, y_train_sample)\n",
    "dt_predictions = dt.predict(X_test_pca)\n",
    "print(\"Decision Tree:\\n\", classification_report(y_test_encoded, dt_predictions, zero_division=1))\n",
    "\n",
    "# K-Neighbors\n",
    "knn = KNeighborsClassifier(n_neighbors=3, n_jobs=-1)  # Χρήση παραμέτρων για ταχύτητα\n",
    "knn.fit(X_train_sample, y_train_sample)\n",
    "knn_predictions = knn.predict(X_test_pca)\n",
    "print(\"K-Neighbors:\\n\", classification_report(y_test_encoded, knn_predictions, zero_division=1))\n",
    "\n",
    "# Logistic Regression\n",
    "lr = LogisticRegression(max_iter=1000)\n",
    "lr.fit(X_train_sample, y_train_sample)\n",
    "lr_predictions = lr.predict(X_test_pca)\n",
    "print(\"Logistic Regression:\\n\", classification_report(y_test_encoded, lr_predictions, zero_division=1))"
   ]
  },
  {
   "cell_type": "code",
   "execution_count": 69,
   "metadata": {},
   "outputs": [
    {
     "ename": "ValueError",
     "evalue": "y contains previously unseen labels: 7",
     "output_type": "error",
     "traceback": [
      "\u001b[0;31m---------------------------------------------------------------------------\u001b[0m",
      "\u001b[0;31mKeyError\u001b[0m                                  Traceback (most recent call last)",
      "File \u001b[0;32m/opt/anaconda3/lib/python3.11/site-packages/sklearn/utils/_encode.py:224\u001b[0m, in \u001b[0;36m_encode\u001b[0;34m(values, uniques, check_unknown)\u001b[0m\n\u001b[1;32m    223\u001b[0m \u001b[38;5;28;01mtry\u001b[39;00m:\n\u001b[0;32m--> 224\u001b[0m     \u001b[38;5;28;01mreturn\u001b[39;00m _map_to_integer(values, uniques)\n\u001b[1;32m    225\u001b[0m \u001b[38;5;28;01mexcept\u001b[39;00m \u001b[38;5;167;01mKeyError\u001b[39;00m \u001b[38;5;28;01mas\u001b[39;00m e:\n",
      "File \u001b[0;32m/opt/anaconda3/lib/python3.11/site-packages/sklearn/utils/_encode.py:164\u001b[0m, in \u001b[0;36m_map_to_integer\u001b[0;34m(values, uniques)\u001b[0m\n\u001b[1;32m    163\u001b[0m table \u001b[38;5;241m=\u001b[39m _nandict({val: i \u001b[38;5;28;01mfor\u001b[39;00m i, val \u001b[38;5;129;01min\u001b[39;00m \u001b[38;5;28menumerate\u001b[39m(uniques)})\n\u001b[0;32m--> 164\u001b[0m \u001b[38;5;28;01mreturn\u001b[39;00m np\u001b[38;5;241m.\u001b[39marray([table[v] \u001b[38;5;28;01mfor\u001b[39;00m v \u001b[38;5;129;01min\u001b[39;00m values])\n",
      "File \u001b[0;32m/opt/anaconda3/lib/python3.11/site-packages/sklearn/utils/_encode.py:164\u001b[0m, in \u001b[0;36m<listcomp>\u001b[0;34m(.0)\u001b[0m\n\u001b[1;32m    163\u001b[0m table \u001b[38;5;241m=\u001b[39m _nandict({val: i \u001b[38;5;28;01mfor\u001b[39;00m i, val \u001b[38;5;129;01min\u001b[39;00m \u001b[38;5;28menumerate\u001b[39m(uniques)})\n\u001b[0;32m--> 164\u001b[0m \u001b[38;5;28;01mreturn\u001b[39;00m np\u001b[38;5;241m.\u001b[39marray([table[v] \u001b[38;5;28;01mfor\u001b[39;00m v \u001b[38;5;129;01min\u001b[39;00m values])\n",
      "File \u001b[0;32m/opt/anaconda3/lib/python3.11/site-packages/sklearn/utils/_encode.py:158\u001b[0m, in \u001b[0;36m_nandict.__missing__\u001b[0;34m(self, key)\u001b[0m\n\u001b[1;32m    157\u001b[0m     \u001b[38;5;28;01mreturn\u001b[39;00m \u001b[38;5;28mself\u001b[39m\u001b[38;5;241m.\u001b[39mnan_value\n\u001b[0;32m--> 158\u001b[0m \u001b[38;5;28;01mraise\u001b[39;00m \u001b[38;5;167;01mKeyError\u001b[39;00m(key)\n",
      "\u001b[0;31mKeyError\u001b[0m: 7",
      "\nDuring handling of the above exception, another exception occurred:\n",
      "\u001b[0;31mValueError\u001b[0m                                Traceback (most recent call last)",
      "Cell \u001b[0;32mIn[69], line 2\u001b[0m\n\u001b[1;32m      1\u001b[0m \u001b[38;5;66;03m# Βήμα 1: Κωδικοποίηση των προβλεπόμενων τιμών (αν είναι σε string μορφή)\u001b[39;00m\n\u001b[0;32m----> 2\u001b[0m nb_predictions \u001b[38;5;241m=\u001b[39m encoder\u001b[38;5;241m.\u001b[39mtransform(nb_predictions)\n\u001b[1;32m      3\u001b[0m dt_predictions \u001b[38;5;241m=\u001b[39m encoder\u001b[38;5;241m.\u001b[39mtransform(dt_predictions)\n\u001b[1;32m      4\u001b[0m knn_predictions \u001b[38;5;241m=\u001b[39m encoder\u001b[38;5;241m.\u001b[39mtransform(knn_predictions)\n",
      "File \u001b[0;32m/opt/anaconda3/lib/python3.11/site-packages/sklearn/utils/_set_output.py:140\u001b[0m, in \u001b[0;36m_wrap_method_output.<locals>.wrapped\u001b[0;34m(self, X, *args, **kwargs)\u001b[0m\n\u001b[1;32m    138\u001b[0m \u001b[38;5;129m@wraps\u001b[39m(f)\n\u001b[1;32m    139\u001b[0m \u001b[38;5;28;01mdef\u001b[39;00m \u001b[38;5;21mwrapped\u001b[39m(\u001b[38;5;28mself\u001b[39m, X, \u001b[38;5;241m*\u001b[39margs, \u001b[38;5;241m*\u001b[39m\u001b[38;5;241m*\u001b[39mkwargs):\n\u001b[0;32m--> 140\u001b[0m     data_to_wrap \u001b[38;5;241m=\u001b[39m f(\u001b[38;5;28mself\u001b[39m, X, \u001b[38;5;241m*\u001b[39margs, \u001b[38;5;241m*\u001b[39m\u001b[38;5;241m*\u001b[39mkwargs)\n\u001b[1;32m    141\u001b[0m     \u001b[38;5;28;01mif\u001b[39;00m \u001b[38;5;28misinstance\u001b[39m(data_to_wrap, \u001b[38;5;28mtuple\u001b[39m):\n\u001b[1;32m    142\u001b[0m         \u001b[38;5;66;03m# only wrap the first output for cross decomposition\u001b[39;00m\n\u001b[1;32m    143\u001b[0m         \u001b[38;5;28;01mreturn\u001b[39;00m (\n\u001b[1;32m    144\u001b[0m             _wrap_data_with_container(method, data_to_wrap[\u001b[38;5;241m0\u001b[39m], X, \u001b[38;5;28mself\u001b[39m),\n\u001b[1;32m    145\u001b[0m             \u001b[38;5;241m*\u001b[39mdata_to_wrap[\u001b[38;5;241m1\u001b[39m:],\n\u001b[1;32m    146\u001b[0m         )\n",
      "File \u001b[0;32m/opt/anaconda3/lib/python3.11/site-packages/sklearn/preprocessing/_label.py:139\u001b[0m, in \u001b[0;36mLabelEncoder.transform\u001b[0;34m(self, y)\u001b[0m\n\u001b[1;32m    136\u001b[0m \u001b[38;5;28;01mif\u001b[39;00m _num_samples(y) \u001b[38;5;241m==\u001b[39m \u001b[38;5;241m0\u001b[39m:\n\u001b[1;32m    137\u001b[0m     \u001b[38;5;28;01mreturn\u001b[39;00m np\u001b[38;5;241m.\u001b[39marray([])\n\u001b[0;32m--> 139\u001b[0m \u001b[38;5;28;01mreturn\u001b[39;00m _encode(y, uniques\u001b[38;5;241m=\u001b[39m\u001b[38;5;28mself\u001b[39m\u001b[38;5;241m.\u001b[39mclasses_)\n",
      "File \u001b[0;32m/opt/anaconda3/lib/python3.11/site-packages/sklearn/utils/_encode.py:226\u001b[0m, in \u001b[0;36m_encode\u001b[0;34m(values, uniques, check_unknown)\u001b[0m\n\u001b[1;32m    224\u001b[0m         \u001b[38;5;28;01mreturn\u001b[39;00m _map_to_integer(values, uniques)\n\u001b[1;32m    225\u001b[0m     \u001b[38;5;28;01mexcept\u001b[39;00m \u001b[38;5;167;01mKeyError\u001b[39;00m \u001b[38;5;28;01mas\u001b[39;00m e:\n\u001b[0;32m--> 226\u001b[0m         \u001b[38;5;28;01mraise\u001b[39;00m \u001b[38;5;167;01mValueError\u001b[39;00m(\u001b[38;5;124mf\u001b[39m\u001b[38;5;124m\"\u001b[39m\u001b[38;5;124my contains previously unseen labels: \u001b[39m\u001b[38;5;132;01m{\u001b[39;00m\u001b[38;5;28mstr\u001b[39m(e)\u001b[38;5;132;01m}\u001b[39;00m\u001b[38;5;124m\"\u001b[39m)\n\u001b[1;32m    227\u001b[0m \u001b[38;5;28;01melse\u001b[39;00m:\n\u001b[1;32m    228\u001b[0m     \u001b[38;5;28;01mif\u001b[39;00m check_unknown:\n",
      "\u001b[0;31mValueError\u001b[0m: y contains previously unseen labels: 7"
     ]
    }
   ],
   "source": [
    "# Βήμα 1: Κωδικοποίηση των προβλεπόμενων τιμών (αν είναι σε string μορφή)\n",
    "nb_predictions = encoder.transform(nb_predictions)\n",
    "dt_predictions = encoder.transform(dt_predictions)\n",
    "knn_predictions = encoder.transform(knn_predictions)\n",
    "lr_predictions = encoder.transform(lr_predictions)\n"
   ]
  },
  {
   "cell_type": "code",
   "execution_count": 70,
   "metadata": {},
   "outputs": [
    {
     "name": "stdout",
     "output_type": "stream",
     "text": [
      "Naive Bayes:\n",
      "               precision    recall  f1-score   support\n",
      "\n",
      "           0       0.93      0.27      0.41    454620\n",
      "           1       0.00      0.00      0.00       393\n",
      "           2       0.58      0.48      0.53     25606\n",
      "           3       0.10      0.05      0.07      2059\n",
      "           4       0.80      0.61      0.69     46215\n",
      "           5       0.02      0.04      0.03      1100\n",
      "           6       0.03      0.22      0.05      1159\n",
      "           7       0.01      0.49      0.02      1588\n",
      "           8       1.00      0.00      0.00         2\n",
      "           9       0.00      0.29      0.00         7\n",
      "          10       0.12      0.98      0.21     31786\n",
      "          11       0.00      0.03      0.01      1179\n",
      "          12       1.00      0.00      0.00       301\n",
      "          13       1.00      0.00      0.00         4\n",
      "          14       1.00      0.00      0.00       130\n",
      "\n",
      "    accuracy                           0.34    566149\n",
      "   macro avg       0.44      0.23      0.13    566149\n",
      "weighted avg       0.85      0.34      0.42    566149\n",
      "\n",
      "Decision Tree:\n",
      "               precision    recall  f1-score   support\n",
      "\n",
      "           0       0.98      1.00      0.99    454620\n",
      "           1       0.47      0.55      0.50       393\n",
      "           2       0.99      0.99      0.99     25606\n",
      "           3       0.86      0.88      0.87      2059\n",
      "           4       0.98      0.87      0.92     46215\n",
      "           5       0.94      0.92      0.93      1100\n",
      "           6       0.96      0.95      0.96      1159\n",
      "           7       0.98      0.99      0.98      1588\n",
      "           8       1.00      0.00      0.00         2\n",
      "           9       0.33      0.29      0.31         7\n",
      "          10       0.99      0.99      0.99     31786\n",
      "          11       0.94      0.94      0.94      1179\n",
      "          12       0.58      0.30      0.39       301\n",
      "          13       1.00      0.00      0.00         4\n",
      "          14       0.29      0.12      0.17       130\n",
      "\n",
      "    accuracy                           0.98    566149\n",
      "   macro avg       0.82      0.65      0.66    566149\n",
      "weighted avg       0.98      0.98      0.98    566149\n",
      "\n",
      "K-Neighbors:\n",
      "               precision    recall  f1-score   support\n",
      "\n",
      "           0       1.00      0.99      0.99    454620\n",
      "           1       0.55      0.46      0.50       393\n",
      "           2       0.99      0.99      0.99     25606\n",
      "           3       0.91      0.92      0.91      2059\n",
      "           4       0.98      0.98      0.98     46215\n",
      "           5       0.95      0.97      0.96      1100\n",
      "           6       0.94      0.97      0.96      1159\n",
      "           7       0.99      0.99      0.99      1588\n",
      "           8       1.00      0.00      0.00         2\n",
      "           9       1.00      0.00      0.00         7\n",
      "          10       0.95      0.97      0.96     31786\n",
      "          11       0.95      0.97      0.96      1179\n",
      "          12       0.73      0.43      0.54       301\n",
      "          13       1.00      0.00      0.00         4\n",
      "          14       0.48      0.29      0.36       130\n",
      "\n",
      "    accuracy                           0.99    566149\n",
      "   macro avg       0.90      0.66      0.67    566149\n",
      "weighted avg       0.99      0.99      0.99    566149\n",
      "\n",
      "Logistic Regression:\n",
      "               precision    recall  f1-score   support\n",
      "\n",
      "           0       0.91      0.98      0.95    454620\n",
      "           1       0.25      0.01      0.01       393\n",
      "           2       0.81      0.50      0.62     25606\n",
      "           3       0.01      0.00      0.00      2059\n",
      "           4       0.79      0.68      0.73     46215\n",
      "           5       0.00      0.00      0.00      1100\n",
      "           6       0.00      0.00      0.00      1159\n",
      "           7       1.00      0.00      0.00      1588\n",
      "           8       1.00      0.00      0.00         2\n",
      "           9       0.50      0.29      0.36         7\n",
      "          10       0.89      0.61      0.73     31786\n",
      "          11       1.00      0.00      0.00      1179\n",
      "          12       1.00      0.00      0.00       301\n",
      "          13       1.00      0.00      0.00         4\n",
      "          14       1.00      0.00      0.00       130\n",
      "\n",
      "    accuracy                           0.90    566149\n",
      "   macro avg       0.68      0.20      0.23    566149\n",
      "weighted avg       0.89      0.90      0.89    566149\n",
      "\n"
     ]
    }
   ],
   "source": [
    "# Βήμα 2: Εκ νέου Εκτέλεση της Αναφοράς Ταξινόμησης\n",
    "\n",
    "print(\"Naive Bayes:\\n\", classification_report(y_test_encoded, nb_predictions, zero_division=1))\n",
    "print(\"Decision Tree:\\n\", classification_report(y_test_encoded, dt_predictions, zero_division=1))\n",
    "print(\"K-Neighbors:\\n\", classification_report(y_test_encoded, knn_predictions, zero_division=1))\n",
    "print(\"Logistic Regression:\\n\", classification_report(y_test_encoded, lr_predictions, zero_division=1))\n"
   ]
  },
  {
   "cell_type": "markdown",
   "metadata": {
    "id": "qfUUHT-hm8S6"
   },
   "source": [
    "Σύγκριση και Ανάλυση Αποτελεσμάτων"
   ]
  },
  {
   "cell_type": "code",
   "execution_count": 71,
   "metadata": {
    "id": "pvFqJNnrZhNE"
   },
   "outputs": [
    {
     "name": "stderr",
     "output_type": "stream",
     "text": [
      "/opt/anaconda3/lib/python3.11/site-packages/sklearn/metrics/_classification.py:1344: UndefinedMetricWarning: Precision is ill-defined and being set to 0.0 in labels with no predicted samples. Use `zero_division` parameter to control this behavior.\n",
      "  _warn_prf(average, modifier, msg_start, len(result))\n",
      "/opt/anaconda3/lib/python3.11/site-packages/sklearn/metrics/_classification.py:1344: UndefinedMetricWarning: Precision is ill-defined and being set to 0.0 in labels with no predicted samples. Use `zero_division` parameter to control this behavior.\n",
      "  _warn_prf(average, modifier, msg_start, len(result))\n",
      "/opt/anaconda3/lib/python3.11/site-packages/sklearn/metrics/_classification.py:1344: UndefinedMetricWarning: Precision is ill-defined and being set to 0.0 in labels with no predicted samples. Use `zero_division` parameter to control this behavior.\n",
      "  _warn_prf(average, modifier, msg_start, len(result))\n",
      "/opt/anaconda3/lib/python3.11/site-packages/sklearn/metrics/_classification.py:1344: UndefinedMetricWarning: Precision is ill-defined and being set to 0.0 in labels with no predicted samples. Use `zero_division` parameter to control this behavior.\n",
      "  _warn_prf(average, modifier, msg_start, len(result))\n"
     ]
    },
    {
     "name": "stdout",
     "output_type": "stream",
     "text": [
      "                 Model  Accuracy  Precision    Recall  F1 Score\n",
      "0          Naive Bayes  0.341640   0.845376  0.341640  0.424073\n",
      "1        Decision Tree  0.983843   0.983688  0.983843  0.983424\n",
      "2          K-Neighbors  0.990893   0.990764  0.990893  0.990793\n",
      "3  Logistic Regression  0.901003   0.885398  0.901003  0.888593\n"
     ]
    },
    {
     "data": {
      "text/plain": [
       "<Axes: title={'center': 'Comparison of Model Performance Metrics'}, xlabel='Model'>"
      ]
     },
     "execution_count": 71,
     "metadata": {},
     "output_type": "execute_result"
    },
    {
     "data": {
      "image/png": "[encoded data removed]",
      "text/plain": [
       "<Figure size 1000x600 with 1 Axes>"
      ]
     },
     "metadata": {},
     "output_type": "display_data"
    }
   ],
   "source": [
    "from sklearn.metrics import accuracy_score, precision_score, recall_score, f1_score\n",
    "\n",
    "# Λειτουργία για να υπολογίσουμε όλες τις μετρικές αξιολόγησης\n",
    "def evaluate_model(y_test, y_pred):\n",
    "    accuracy = accuracy_score(y_test, y_pred)\n",
    "    precision = precision_score(y_test, y_pred, average='weighted')\n",
    "    recall = recall_score(y_test, y_pred, average='weighted')\n",
    "    f1 = f1_score(y_test, y_pred, average='weighted')\n",
    "\n",
    "    return accuracy, precision, recall, f1\n",
    "\n",
    "# Αποθήκευση των αποτελεσμάτων σε ένα DataFrame για ευκολότερη σύγκριση\n",
    "results = pd.DataFrame(columns=['Model', 'Accuracy', 'Precision', 'Recall', 'F1 Score'])\n",
    "\n",
    "# Προσθήκη των αποτελεσμάτων για κάθε μοντέλο\n",
    "models = {\n",
    "    'Naive Bayes': nb_predictions,\n",
    "    'Decision Tree': dt_predictions,\n",
    "    'K-Neighbors': knn_predictions,\n",
    "    'Logistic Regression': lr_predictions\n",
    "}\n",
    "\n",
    "for model_name, y_pred in models.items():\n",
    "    accuracy, precision, recall, f1 = evaluate_model(y_test_encoded, y_pred)\n",
    "    results = results.append({\n",
    "        'Model': model_name,\n",
    "        'Accuracy': accuracy,\n",
    "        'Precision': precision,\n",
    "        'Recall': recall,\n",
    "        'F1 Score': f1\n",
    "    }, ignore_index=True)\n",
    "\n",
    "# Εμφάνιση των αποτελεσμάτων\n",
    "print(results)\n",
    "\n",
    "# Προαιρετικά: δημιουργία διαγραμμάτων για τη σύγκριση των μοντέλων\n",
    "results.set_index('Model', inplace=True)\n",
    "results.plot(kind='bar', figsize=(10, 6), ylim=(0, 1), title=\"Comparison of Model Performance Metrics\")\n"
   ]
  },
  {
   "cell_type": "code",
   "execution_count": null,
   "metadata": {},
   "outputs": [],
   "source": []
  }
 ],
 "metadata": {
  "colab": {
   "provenance": []
  },
  "kernelspec": {
   "display_name": "Python 3 (ipykernel)",
   "language": "python",
   "name": "python3"
  },
  "language_info": {
   "codemirror_mode": {
    "name": "ipython",
    "version": 3
   },
   "file_extension": ".py",
   "mimetype": "text/x-python",
   "name": "python",
   "nbconvert_exporter": "python",
   "pygments_lexer": "ipython3",
   "version": "3.11.7"
  }
 },
 "nbformat": 4,
 "nbformat_minor": 4
}
