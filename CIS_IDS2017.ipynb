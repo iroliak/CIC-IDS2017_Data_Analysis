{
  "cells": [
    {
      "cell_type": "markdown",
      "metadata": {
        "id": "view-in-github",
        "colab_type": "text"
      },
      "source": [
        "<a href=\"https://colab.research.google.com/github/iroliak/CIC-IDS2017_Data_Analysis/blob/main/CIS_IDS2017.ipynb\" target=\"_parent\"><img src=\"https://colab.research.google.com/assets/colab-badge.svg\" alt=\"Open In Colab\"/></a>"
      ]
    },
    {
      "cell_type": "markdown",
      "metadata": {
        "id": "1FFia7MZlhWG"
      },
      "source": [
        "## Ανάλυση του CIS-IDS2017 Dataset\n",
        "---"
      ]
    },
    {
      "cell_type": "markdown",
      "metadata": {
        "id": "KF18QMzloZ51"
      },
      "source": [
        "##Σύντομη Περιγραφή"
      ]
    },
    {
      "cell_type": "markdown",
      "metadata": {
        "id": "40Hx3BVWo3IH"
      },
      "source": [
        "Το CIC-IDS2017 (Canadian Institute for Cybersecurity - Intrusion Detection System 2017) είναι ένα σύνολο δεδομένων που δημιουργήθηκε για την αξιολόγηση των συστημάτων ανίχνευσης εισβολών (IDS). Ο σκοπός του είναι να παρέχει ένα περιβάλλον για την ανάλυση των συμπεριφορών δικτύου και την ανάπτυξη αλγορίθμων μηχανικής μάθησης που μπορούν να ανιχνεύσουν κακόβουλες δραστηριότητες σε δίκτυα.\n",
        "\n",
        "**Περιεχόμενο:**\n",
        "Το CIC-IDS2017 περιλαμβάνει ένα ευρύ φάσμα δικτυακών επιθέσεων, όπως DDoS, Brute Force, Infiltration, και άλλες επιθέσεις, καθώς και φυσιολογική κυκλοφορία δικτύου. Τα δεδομένα περιέχουν διάφορες μετρήσεις και χαρακτηριστικά δικτύου, όπως χρόνους ροής, μεγέθη πακέτων, και χρονικές σφραγίδες.\n",
        "\n",
        "**Εφαρμογές:**\n",
        "Το dataset χρησιμοποιείται ευρέως στην έρευνα για την ανάπτυξη και αξιολόγηση μοντέλων μηχανικής μάθησης που μπορούν να ανιχνεύσουν και να κατατάξουν κακόβουλες δραστηριότητες σε δίκτυα. Είναι ιδιαίτερα χρήσιμο για την εκπαίδευση, τον έλεγχο και την αξιολόγηση συστημάτων ανίχνευσης εισβολών.\n",
        "\n",
        "**Χαρακτηριστικά:**\n",
        "Το CIC-IDS2017 είναι μια συλλογή δεδομένων πραγματικού κόσμου, που περιλαμβάνει περίπου 80 χαρακτηριστικά ανά ροή δικτύου, όπως αριθμός πακέτων, μέσο μέγεθος πακέτου, διάρκεια ροής, κ.λπ. Τα δεδομένα είναι κατηγοριοποιημένα σε επιθέσεις και φυσιολογικές ροές."
      ]
    },
    {
      "cell_type": "markdown",
      "metadata": {
        "id": "9uDUXfEeow8P"
      },
      "source": [
        "##Πρακτική Εφαρμογή"
      ]
    },
    {
      "cell_type": "code",
      "execution_count": null,
      "metadata": {
        "colab": {
          "base_uri": "https://localhost:8080/"
        },
        "id": "JpokQG0WmT77",
        "outputId": "231e160a-d65a-4ab8-bc8e-d7edc1d9053e"
      },
      "outputs": [
        {
          "name": "stdout",
          "output_type": "stream",
          "text": [
            "    Destination Port   Flow Duration   Total Fwd Packets  \\\n",
            "0                 22             166                   1   \n",
            "1              60148              83                   1   \n",
            "2                123           99947                   1   \n",
            "3                123           37017                   1   \n",
            "4                  0       111161336                 147   \n",
            "\n",
            "    Total Backward Packets  Total Length of Fwd Packets  \\\n",
            "0                        1                            0   \n",
            "1                        2                            0   \n",
            "2                        1                           48   \n",
            "3                        1                           48   \n",
            "4                        0                            0   \n",
            "\n",
            "    Total Length of Bwd Packets   Fwd Packet Length Max  \\\n",
            "0                             0                       0   \n",
            "1                             0                       0   \n",
            "2                            48                      48   \n",
            "3                            48                      48   \n",
            "4                             0                       0   \n",
            "\n",
            "    Fwd Packet Length Min   Fwd Packet Length Mean   Fwd Packet Length Std  \\\n",
            "0                       0                      0.0                     0.0   \n",
            "1                       0                      0.0                     0.0   \n",
            "2                      48                     48.0                     0.0   \n",
            "3                      48                     48.0                     0.0   \n",
            "4                       0                      0.0                     0.0   \n",
            "\n",
            "   ...   min_seg_size_forward  Active Mean   Active Std   Active Max  \\\n",
            "0  ...                     32        0.000        0.000            0   \n",
            "1  ...                     32        0.000        0.000            0   \n",
            "2  ...                     40        0.000        0.000            0   \n",
            "3  ...                     32        0.000        0.000            0   \n",
            "4  ...                      0  1753752.625  2123197.578      4822992   \n",
            "\n",
            "    Active Min  Idle Mean     Idle Std   Idle Max   Idle Min   Label  \n",
            "0            0        0.0        0.000          0          0  BENIGN  \n",
            "1            0        0.0        0.000          0          0  BENIGN  \n",
            "2            0        0.0        0.000          0          0  BENIGN  \n",
            "3            0        0.0        0.000          0          0  BENIGN  \n",
            "4           95  9463032.7  2657727.996   13600000    5700287  BENIGN  \n",
            "\n",
            "[5 rows x 79 columns]\n"
          ]
        }
      ],
      "source": [
        "import os\n",
        "import pandas as pd\n",
        "from sklearn.model_selection import train_test_split\n",
        "from sklearn.preprocessing import StandardScaler, LabelEncoder\n",
        "from sklearn.decomposition import PCA\n",
        "from sklearn.naive_bayes import GaussianNB\n",
        "from sklearn.tree import DecisionTreeClassifier\n",
        "from sklearn.neighbors import KNeighborsClassifier\n",
        "from sklearn.linear_model import LogisticRegression\n",
        "from sklearn.metrics import classification_report, accuracy_score, precision_score, recall_score, f1_score\n",
        "import matplotlib.pyplot as plt\n",
        "import numpy as np\n",
        "\n",
        "# Ορισμός του μονοπατιού του φακέλου που περιέχει τα CSV αρχεία\n",
        "folder_path = '/Users/iroliakakou/Downloads/MachineLearningCVE/'  # Αντικατέστησε με το πραγματικό μονοπάτι\n",
        "\n",
        "# Λίστα με όλα τα CSV αρχεία\n",
        "csv_files = [os.path.join(folder_path, f) for f in os.listdir(folder_path) if f.endswith('.csv')]\n",
        "\n",
        "# Ανάγνωση και συγχώνευση όλων των CSV αρχείων σε ένα DataFrame\n",
        "df_list = [pd.read_csv(file) for file in csv_files]\n",
        "df = pd.concat(df_list, ignore_index=True)\n",
        "\n",
        "# Προβολή των πρώτων γραμμών του DataFrame για να επιβεβαιώσουμε ότι φορτώθηκε σωστά\n",
        "print(df.head())\n"
      ]
    },
    {
      "cell_type": "markdown",
      "metadata": {
        "id": "98skkP7fmb71"
      },
      "source": [
        "Προεπεξεργασία - Διατήρηση Χρήσιμων Στηλών"
      ]
    },
    {
      "cell_type": "code",
      "execution_count": null,
      "metadata": {
        "colab": {
          "base_uri": "https://localhost:8080/"
        },
        "id": "BMbzkED-mc3z",
        "outputId": "0a30bb7d-8069-4108-f327-2f034e6bc9f4"
      },
      "outputs": [
        {
          "name": "stdout",
          "output_type": "stream",
          "text": [
            "    Destination Port   Flow Duration   Total Fwd Packets  \\\n",
            "0                 22             166                   1   \n",
            "1              60148              83                   1   \n",
            "2                123           99947                   1   \n",
            "3                123           37017                   1   \n",
            "4                  0       111161336                 147   \n",
            "\n",
            "    Total Backward Packets  Total Length of Fwd Packets  \\\n",
            "0                        1                            0   \n",
            "1                        2                            0   \n",
            "2                        1                           48   \n",
            "3                        1                           48   \n",
            "4                        0                            0   \n",
            "\n",
            "    Total Length of Bwd Packets   Fwd Packet Length Max  \\\n",
            "0                             0                       0   \n",
            "1                             0                       0   \n",
            "2                            48                      48   \n",
            "3                            48                      48   \n",
            "4                             0                       0   \n",
            "\n",
            "    Fwd Packet Length Min   Fwd Packet Length Mean   Fwd Packet Length Std  \\\n",
            "0                       0                      0.0                     0.0   \n",
            "1                       0                      0.0                     0.0   \n",
            "2                      48                     48.0                     0.0   \n",
            "3                      48                     48.0                     0.0   \n",
            "4                       0                      0.0                     0.0   \n",
            "\n",
            "   ...   act_data_pkt_fwd   min_seg_size_forward  Active Mean   Active Std  \\\n",
            "0  ...                  0                     32        0.000        0.000   \n",
            "1  ...                  0                     32        0.000        0.000   \n",
            "2  ...                  0                     40        0.000        0.000   \n",
            "3  ...                  0                     32        0.000        0.000   \n",
            "4  ...                  0                      0  1753752.625  2123197.578   \n",
            "\n",
            "    Active Max   Active Min  Idle Mean     Idle Std   Idle Max   Idle Min  \n",
            "0            0            0        0.0        0.000          0          0  \n",
            "1            0            0        0.0        0.000          0          0  \n",
            "2            0            0        0.0        0.000          0          0  \n",
            "3            0            0        0.0        0.000          0          0  \n",
            "4      4822992           95  9463032.7  2657727.996   13600000    5700287  \n",
            "\n",
            "[5 rows x 78 columns]\n",
            "0    BENIGN\n",
            "1    BENIGN\n",
            "2    BENIGN\n",
            "3    BENIGN\n",
            "4    BENIGN\n",
            "Name:  Label, dtype: object\n"
          ]
        }
      ],
      "source": [
        "# Επιλογή των χαρακτηριστικών (X) και του στόχου (y)\n",
        "X = df.drop(' Label', axis=1)  # Όλες οι στήλες εκτός από το ' Label'\n",
        "y = df[' Label']  # Στήλη στόχου\n",
        "\n",
        "# Εξέταση των πρώτων γραμμών του X και του y για να επιβεβαιώσουμε ότι ορίστηκαν σωστά\n",
        "print(X.head())\n",
        "print(y.head())\n"
      ]
    },
    {
      "cell_type": "markdown",
      "metadata": {
        "id": "fjVitElrmgHQ"
      },
      "source": [
        "Διαμερισμός του Dataset σε Training και Test Sets"
      ]
    },
    {
      "cell_type": "code",
      "execution_count": null,
      "metadata": {
        "colab": {
          "base_uri": "https://localhost:8080/"
        },
        "id": "vlIx66tgmimC",
        "outputId": "381b607a-7d2d-42c3-9bef-a2de5db8f477"
      },
      "outputs": [
        {
          "name": "stdout",
          "output_type": "stream",
          "text": [
            "Training set size: 2264594 samples\n",
            "Test set size: 566149 samples\n"
          ]
        }
      ],
      "source": [
        "# Διαχωρισμός των δεδομένων σε training και test sets\n",
        "X_train, X_test, y_train, y_test = train_test_split(X, y, test_size=0.2, random_state=42, stratify=y)\n",
        "\n",
        "# Εξέταση των μεγεθών των σετ για να επιβεβαιώσουμε ότι έγινε σωστά ο διαμερισμός\n",
        "print(f'Training set size: {X_train.shape[0]} samples')\n",
        "print(f'Test set size: {X_test.shape[0]} samples')\n"
      ]
    },
    {
      "cell_type": "markdown",
      "metadata": {
        "id": "8hpeyDh-8bqF"
      },
      "source": [
        "Εντοπισμός και Αντιμετώπιση Απειρων ή Πολύ Μεγάλων Τιμών"
      ]
    },
    {
      "cell_type": "code",
      "execution_count": null,
      "metadata": {
        "colab": {
          "base_uri": "https://localhost:8080/"
        },
        "id": "ujromQm-8Y89",
        "outputId": "5f47ae46-1a60-4f3d-820b-b8c83a3d4abe"
      },
      "outputs": [
        {
          "name": "stdout",
          "output_type": "stream",
          "text": [
            "Checking for infinite values...\n",
            "3429\n",
            "Checking for NaN values...\n",
            "1065\n"
          ]
        }
      ],
      "source": [
        "# Εντοπισμός απείρων τιμών\n",
        "print(\"Checking for infinite values...\")\n",
        "print(np.isinf(X_train).sum().sum())\n",
        "\n",
        "# Εντοπισμός NaN τιμών\n",
        "print(\"Checking for NaN values...\")\n",
        "print(np.isnan(X_train).sum().sum())\n",
        "\n",
        "# Αντικατάσταση απείρων τιμών με NaN\n",
        "X_train.replace([np.inf, -np.inf], np.nan, inplace=True)\n",
        "X_test.replace([np.inf, -np.inf], np.nan, inplace=True)\n",
        "\n",
        "# Αντικατάσταση ή αφαίρεση των NaN τιμών\n",
        "X_train.fillna(X_train.mean(), inplace=True)\n",
        "X_test.fillna(X_test.mean(), inplace=True)"
      ]
    },
    {
      "cell_type": "markdown",
      "metadata": {
        "id": "2ja44ebmmlIY"
      },
      "source": [
        "Κλιμάκωση των Αριθμητικών Ιδιοτήτων (Scaling)"
      ]
    },
    {
      "cell_type": "code",
      "execution_count": null,
      "metadata": {
        "id": "jvQ5hXWsmpbr"
      },
      "outputs": [],
      "source": [
        "# Κλιμάκωση των αριθμητικών χαρακτηριστικών\n",
        "scaler = StandardScaler()\n",
        "X_train_scaled = scaler.fit_transform(X_train)\n",
        "X_test_scaled = scaler.transform(X_test)"
      ]
    },
    {
      "cell_type": "markdown",
      "metadata": {
        "id": "SgsuyGO6mr-4"
      },
      "source": [
        "Κωδικοποίηση των Κατηγορικών Στηλών"
      ]
    },
    {
      "cell_type": "code",
      "execution_count": null,
      "metadata": {
        "id": "HQob5OMtmvpz"
      },
      "outputs": [],
      "source": [
        "# Κωδικοποίηση της στήλης στόχου\n",
        "encoder = LabelEncoder()\n",
        "y_train_encoded = encoder.fit_transform(y_train)\n",
        "y_test_encoded = encoder.transform(y_test)"
      ]
    },
    {
      "cell_type": "code",
      "execution_count": null,
      "metadata": {
        "id": "TRJ2LLBJj0ly"
      },
      "outputs": [],
      "source": [
        "# Χρήση λιγότερων συνιστωσών στο PCA\n",
        "pca = PCA(n_components=5)  # Χρήση λιγότερων συνιστωσών\n",
        "X_train_pca = pca.fit_transform(X_train_scaled)\n",
        "X_test_pca = pca.transform(X_test_scaled)"
      ]
    },
    {
      "cell_type": "markdown",
      "metadata": {
        "id": "Vgm-xoqQm3IT"
      },
      "source": [
        "Εφαρμογή Classifiers"
      ]
    },
    {
      "cell_type": "code",
      "execution_count": null,
      "metadata": {
        "id": "57xrU_QWm5mn",
        "outputId": "1d8b0b02-f66c-49e1-e131-33b229460bb2"
      },
      "outputs": [
        {
          "name": "stdout",
          "output_type": "stream",
          "text": [
            "Naive Bayes:\n",
            "               precision    recall  f1-score   support\n",
            "\n",
            "           0       0.93      0.27      0.41    454620\n",
            "           1       0.00      0.00      0.00       393\n",
            "           2       0.58      0.48      0.53     25606\n",
            "           3       0.10      0.05      0.07      2059\n",
            "           4       0.80      0.61      0.69     46215\n",
            "           5       0.02      0.04      0.03      1100\n",
            "           6       0.03      0.22      0.05      1159\n",
            "           7       0.01      0.49      0.02      1588\n",
            "           8       1.00      0.00      0.00         2\n",
            "           9       0.00      0.29      0.00         7\n",
            "          10       0.12      0.98      0.21     31786\n",
            "          11       0.00      0.03      0.01      1179\n",
            "          12       1.00      0.00      0.00       301\n",
            "          13       1.00      0.00      0.00         4\n",
            "          14       1.00      0.00      0.00       130\n",
            "\n",
            "    accuracy                           0.34    566149\n",
            "   macro avg       0.44      0.23      0.13    566149\n",
            "weighted avg       0.85      0.34      0.42    566149\n",
            "\n",
            "Decision Tree:\n",
            "               precision    recall  f1-score   support\n",
            "\n",
            "           0       0.99      1.00      0.99    454620\n",
            "           1       0.44      0.56      0.49       393\n",
            "           2       0.99      0.99      0.99     25606\n",
            "           3       0.86      0.89      0.87      2059\n",
            "           4       0.98      0.92      0.95     46215\n",
            "           5       0.92      0.80      0.86      1100\n",
            "           6       0.96      0.95      0.96      1159\n",
            "           7       0.98      0.99      0.98      1588\n",
            "           8       0.00      0.00      0.00         2\n",
            "           9       0.50      0.29      0.36         7\n",
            "          10       0.99      0.99      0.99     31786\n",
            "          11       0.93      0.94      0.94      1179\n",
            "          12       0.57      0.66      0.61       301\n",
            "          13       1.00      0.00      0.00         4\n",
            "          14       0.21      0.25      0.23       130\n",
            "\n",
            "    accuracy                           0.99    566149\n",
            "   macro avg       0.75      0.68      0.68    566149\n",
            "weighted avg       0.99      0.99      0.99    566149\n",
            "\n",
            "K-Neighbors:\n",
            "               precision    recall  f1-score   support\n",
            "\n",
            "           0       0.99      0.99      0.99    454620\n",
            "           1       0.55      0.46      0.50       393\n",
            "           2       0.99      0.99      0.99     25606\n",
            "           3       0.90      0.92      0.91      2059\n",
            "           4       0.98      0.96      0.97     46215\n",
            "           5       0.95      0.97      0.96      1100\n",
            "           6       0.94      0.97      0.96      1159\n",
            "           7       0.99      0.99      0.99      1588\n",
            "           8       1.00      0.00      0.00         2\n",
            "           9       1.00      0.00      0.00         7\n",
            "          10       0.95      0.97      0.96     31786\n",
            "          11       0.95      0.97      0.96      1179\n",
            "          12       0.72      0.51      0.60       301\n",
            "          13       1.00      0.00      0.00         4\n",
            "          14       0.44      0.35      0.39       130\n",
            "\n",
            "    accuracy                           0.99    566149\n",
            "   macro avg       0.89      0.67      0.68    566149\n",
            "weighted avg       0.99      0.99      0.99    566149\n",
            "\n"
          ]
        },
        {
          "name": "stderr",
          "output_type": "stream",
          "text": [
            "/opt/anaconda3/lib/python3.11/site-packages/sklearn/linear_model/_sag.py:350: ConvergenceWarning: The max_iter was reached which means the coef_ did not converge\n",
            "  warnings.warn(\n"
          ]
        },
        {
          "name": "stdout",
          "output_type": "stream",
          "text": [
            "Logistic Regression:\n",
            "               precision    recall  f1-score   support\n",
            "\n",
            "           0       0.88      0.99      0.93    454620\n",
            "           1       1.00      0.00      0.00       393\n",
            "           2       0.79      0.47      0.59     25606\n",
            "           3       0.00      0.00      0.00      2059\n",
            "           4       0.80      0.67      0.73     46215\n",
            "           5       0.00      0.00      0.00      1100\n",
            "           6       0.00      0.00      0.00      1159\n",
            "           7       1.00      0.00      0.00      1588\n",
            "           8       1.00      0.00      0.00         2\n",
            "           9       0.50      0.14      0.22         7\n",
            "          10       0.76      0.06      0.11     31786\n",
            "          11       1.00      0.00      0.00      1179\n",
            "          12       1.00      0.00      0.00       301\n",
            "          13       1.00      0.00      0.00         4\n",
            "          14       1.00      0.00      0.00       130\n",
            "\n",
            "    accuracy                           0.87    566149\n",
            "   macro avg       0.72      0.16      0.17    566149\n",
            "weighted avg       0.86      0.87      0.84    566149\n",
            "\n"
          ]
        }
      ],
      "source": [
        "# Χρήση μικρότερου δείγματος των δεδομένων\n",
        "X_train_sample, _, y_train_sample, _ = train_test_split(X_train_pca, y_train_encoded, test_size=0.9, random_state=42)\n",
        "\n",
        "# Naive Bayes\n",
        "nb = GaussianNB()  # Αρχικοποίηση του Naive Bayes μοντέλου\n",
        "nb.fit(X_train_sample, y_train_sample)\n",
        "nb_predictions = nb.predict(X_test_pca)\n",
        "print(\"Naive Bayes:\\n\", classification_report(y_test_encoded, nb_predictions, zero_division=1))\n",
        "\n",
        "# Decision Tree\n",
        "dt = DecisionTreeClassifier()  # Αρχικοποίηση του Decision Tree μοντέλου\n",
        "dt.fit(X_train_sample, y_train_sample)\n",
        "dt_predictions = dt.predict(X_test_pca)\n",
        "print(\"Decision Tree:\\n\", classification_report(y_test_encoded, dt_predictions, zero_division=1))\n",
        "\n",
        "# K-Neighbors\n",
        "knn = KNeighborsClassifier(n_neighbors=3, n_jobs=-1)  # Αρχικοποίηση του K-Neighbors μοντέλου\n",
        "knn.fit(X_train_sample, y_train_sample)\n",
        "knn_predictions = knn.predict(X_test_pca)\n",
        "print(\"K-Neighbors:\\n\", classification_report(y_test_encoded, knn_predictions, zero_division=1))\n",
        "\n",
        "# Αρχικοποίηση Logistic Regression με περισσότερες επαναλήψεις και διαφορετικό solver\n",
        "lr = LogisticRegression(max_iter=5000, solver='saga')\n",
        "lr.fit(X_train_sample, y_train_sample)\n",
        "lr_predictions = lr.predict(X_test_pca)\n",
        "print(\"Logistic Regression:\\n\", classification_report(y_test_encoded, lr_predictions, zero_division=1))"
      ]
    },
    {
      "cell_type": "code",
      "execution_count": null,
      "metadata": {
        "id": "6-WMNMgTj0ly",
        "outputId": "bdfdc44f-209a-485d-9bdc-8a28f02da5dd"
      },
      "outputs": [
        {
          "name": "stdout",
          "output_type": "stream",
          "text": [
            "Naive Bayes:\n",
            "               precision    recall  f1-score   support\n",
            "\n",
            "           0       0.93      0.27      0.41    454620\n",
            "           1       0.00      0.00      0.00       393\n",
            "           2       0.58      0.48      0.53     25606\n",
            "           3       0.10      0.05      0.07      2059\n",
            "           4       0.80      0.61      0.69     46215\n",
            "           5       0.02      0.04      0.03      1100\n",
            "           6       0.03      0.22      0.05      1159\n",
            "           7       0.01      0.49      0.02      1588\n",
            "           8       1.00      0.00      0.00         2\n",
            "           9       0.00      0.29      0.00         7\n",
            "          10       0.12      0.98      0.21     31786\n",
            "          11       0.00      0.03      0.01      1179\n",
            "          12       1.00      0.00      0.00       301\n",
            "          13       1.00      0.00      0.00         4\n",
            "          14       1.00      0.00      0.00       130\n",
            "\n",
            "    accuracy                           0.34    566149\n",
            "   macro avg       0.44      0.23      0.13    566149\n",
            "weighted avg       0.85      0.34      0.42    566149\n",
            "\n",
            "Decision Tree:\n",
            "               precision    recall  f1-score   support\n",
            "\n",
            "           0       0.99      1.00      0.99    454620\n",
            "           1       0.44      0.56      0.49       393\n",
            "           2       0.99      0.99      0.99     25606\n",
            "           3       0.86      0.89      0.87      2059\n",
            "           4       0.98      0.92      0.95     46215\n",
            "           5       0.92      0.80      0.86      1100\n",
            "           6       0.96      0.95      0.96      1159\n",
            "           7       0.98      0.99      0.98      1588\n",
            "           8       0.00      0.00      0.00         2\n",
            "           9       0.50      0.29      0.36         7\n",
            "          10       0.99      0.99      0.99     31786\n",
            "          11       0.93      0.94      0.94      1179\n",
            "          12       0.57      0.66      0.61       301\n",
            "          13       1.00      0.00      0.00         4\n",
            "          14       0.21      0.25      0.23       130\n",
            "\n",
            "    accuracy                           0.99    566149\n",
            "   macro avg       0.75      0.68      0.68    566149\n",
            "weighted avg       0.99      0.99      0.99    566149\n",
            "\n",
            "K-Neighbors:\n",
            "               precision    recall  f1-score   support\n",
            "\n",
            "           0       0.99      0.99      0.99    454620\n",
            "           1       0.55      0.46      0.50       393\n",
            "           2       0.99      0.99      0.99     25606\n",
            "           3       0.90      0.92      0.91      2059\n",
            "           4       0.98      0.96      0.97     46215\n",
            "           5       0.95      0.97      0.96      1100\n",
            "           6       0.94      0.97      0.96      1159\n",
            "           7       0.99      0.99      0.99      1588\n",
            "           8       1.00      0.00      0.00         2\n",
            "           9       1.00      0.00      0.00         7\n",
            "          10       0.95      0.97      0.96     31786\n",
            "          11       0.95      0.97      0.96      1179\n",
            "          12       0.72      0.51      0.60       301\n",
            "          13       1.00      0.00      0.00         4\n",
            "          14       0.44      0.35      0.39       130\n",
            "\n",
            "    accuracy                           0.99    566149\n",
            "   macro avg       0.89      0.67      0.68    566149\n",
            "weighted avg       0.99      0.99      0.99    566149\n",
            "\n",
            "Logistic Regression:\n",
            "               precision    recall  f1-score   support\n",
            "\n",
            "           0       0.88      0.99      0.93    454620\n",
            "           1       1.00      0.00      0.00       393\n",
            "           2       0.79      0.47      0.59     25606\n",
            "           3       0.00      0.00      0.00      2059\n",
            "           4       0.80      0.67      0.73     46215\n",
            "           5       0.00      0.00      0.00      1100\n",
            "           6       0.00      0.00      0.00      1159\n",
            "           7       1.00      0.00      0.00      1588\n",
            "           8       1.00      0.00      0.00         2\n",
            "           9       0.50      0.14      0.22         7\n",
            "          10       0.76      0.06      0.11     31786\n",
            "          11       1.00      0.00      0.00      1179\n",
            "          12       1.00      0.00      0.00       301\n",
            "          13       1.00      0.00      0.00         4\n",
            "          14       1.00      0.00      0.00       130\n",
            "\n",
            "    accuracy                           0.87    566149\n",
            "   macro avg       0.72      0.16      0.17    566149\n",
            "weighted avg       0.86      0.87      0.84    566149\n",
            "\n"
          ]
        }
      ],
      "source": [
        "# Βήμα 2: Εκ νέου Εκτέλεση της Αναφοράς Ταξινόμησης\n",
        "\n",
        "print(\"Naive Bayes:\\n\", classification_report(y_test_encoded, nb_predictions, zero_division=1))\n",
        "print(\"Decision Tree:\\n\", classification_report(y_test_encoded, dt_predictions, zero_division=1))\n",
        "print(\"K-Neighbors:\\n\", classification_report(y_test_encoded, knn_predictions, zero_division=1))\n",
        "print(\"Logistic Regression:\\n\", classification_report(y_test_encoded, lr_predictions, zero_division=1))\n"
      ]
    },
    {
      "cell_type": "markdown",
      "metadata": {
        "id": "qfUUHT-hm8S6"
      },
      "source": [
        "Σύγκριση και Ανάλυση Αποτελεσμάτων"
      ]
    },
    {
      "cell_type": "code",
      "execution_count": null,
      "metadata": {
        "id": "pvFqJNnrZhNE",
        "scrolled": true,
        "outputId": "83288de8-88e4-401b-d143-2922e5222dc4"
      },
      "outputs": [
        {
          "name": "stdout",
          "output_type": "stream",
          "text": [
            "                 Model  Accuracy  Precision    Recall  F1 Score\n",
            "0          Naive Bayes  0.341921   0.846204  0.341921  0.424427\n",
            "1        Decision Tree  0.987244   0.987378  0.987244  0.987194\n",
            "2          K-Neighbors  0.989181   0.989101  0.989181  0.989102\n",
            "3  Logistic Regression  0.873754   0.858793  0.873754  0.841626\n"
          ]
        },
        {
          "data": {
            "text/plain": [
              "<Axes: title={'center': 'Comparison of Model Performance Metrics'}, xlabel='Model'>"
            ]
          },
          "execution_count": 109,
          "metadata": {},
          "output_type": "execute_result"
        },
        {
          "data": {
            "image/png": "[encoded data removed]",
            "text/plain": [
              "<Figure size 1000x600 with 1 Axes>"
            ]
          },
          "metadata": {},
          "output_type": "display_data"
        }
      ],
      "source": [
        "from sklearn.metrics import accuracy_score, precision_score, recall_score, f1_score\n",
        "\n",
        "# Λειτουργία για να υπολογίσουμε όλες τις μετρικές αξιολόγησης\n",
        "def evaluate_model(y_test, y_pred):\n",
        "    accuracy = accuracy_score(y_test, y_pred)\n",
        "    precision = precision_score(y_test, y_pred, average='weighted', zero_division=1)\n",
        "    recall = recall_score(y_test, y_pred, average='weighted', zero_division=1)\n",
        "    f1 = f1_score(y_test, y_pred, average='weighted', zero_division=1)\n",
        "\n",
        "    return accuracy, precision, recall, f1\n",
        "\n",
        "# Αποθήκευση των αποτελεσμάτων σε ένα DataFrame για ευκολότερη σύγκριση\n",
        "results = pd.DataFrame(columns=['Model', 'Accuracy', 'Precision', 'Recall', 'F1 Score'])\n",
        "\n",
        "# Προσθήκη των αποτελεσμάτων για κάθε μοντέλο\n",
        "models = {\n",
        "    'Naive Bayes': nb_predictions,\n",
        "    'Decision Tree': dt_predictions,\n",
        "    'K-Neighbors': knn_predictions,\n",
        "    'Logistic Regression': lr_predictions\n",
        "}\n",
        "\n",
        "for model_name, y_pred in models.items():\n",
        "    accuracy, precision, recall, f1 = evaluate_model(y_test_encoded, y_pred)\n",
        "    results = results.append({\n",
        "        'Model': model_name,\n",
        "        'Accuracy': accuracy,\n",
        "        'Precision': precision,\n",
        "        'Recall': recall,\n",
        "        'F1 Score': f1\n",
        "    }, ignore_index=True)\n",
        "\n",
        "# Εμφάνιση των αποτελεσμάτων\n",
        "print(results)\n",
        "\n",
        "# Προαιρετικά: δημιουργία διαγραμμάτων για τη σύγκριση των μοντέλων\n",
        "results.set_index('Model', inplace=True)\n",
        "results.plot(kind='bar', figsize=(10, 6), ylim=(0, 1), title=\"Comparison of Model Performance Metrics\")\n"
      ]
    },
    {
      "cell_type": "markdown",
      "metadata": {
        "id": "0h-vzQc9j0ly"
      },
      "source": [
        "Από τη σύγκριση των αποτελεσμάτων των μοντέλων που προέκυψαν, μπορούμε να εξάγουμε τα εξής συμπεράσματα:\n",
        "\n",
        "**Naive Bayes:**\n",
        "\n",
        "Το Naive Bayes παρουσίασε τη χαμηλότερη απόδοση με ακρίβεια (accuracy) 0.3419. Παρόλο που η ακρίβεια μπορεί να είναι χρήσιμη σε ορισμένες περιπτώσεις, σε αυτό το σύνολο δεδομένων το Naive Bayes δεν φαίνεται να είναι κατάλληλο για την ανίχνευση εισβολών, όπως φαίνεται από τη χαμηλή ανάκληση (recall) και το μέσο F1 score. Αυτό υποδεικνύει ότι το μοντέλο αυτό δυσκολεύεται να εντοπίσει σωστά τις εισβολές, πιθανώς λόγω της απλότητας της υπόθεσης της ανεξαρτησίας που κάνει το Naive Bayes.\n",
        "\n",
        "**Decision Tree:**\n",
        "\n",
        "Το Decision Tree αποδεικνύεται εξαιρετικά αποδοτικό με ακρίβεια 0.9872 και υψηλές τιμές σε όλες τις μετρικές (precision, recall, F1 score). Αυτό υποδεικνύει ότι το Decision Tree καταφέρνει να εντοπίσει με ακρίβεια τις εισβολές, καθιστώντας το ένα πολύ ισχυρό εργαλείο για αυτό το είδος δεδομένων. Η υψηλή ακρίβεια και ανάκληση υποδεικνύουν ότι το μοντέλο είναι σε θέση να αναγνωρίζει σωστά τόσο τις εισβολές όσο και τις φυσιολογικές περιπτώσεις.\n",
        "\n",
        "**K-Neighbors:**\n",
        "\n",
        "Το K-Neighbors παρουσίασε την καλύτερη απόδοση με ακρίβεια 0.9892 και εξαιρετικές τιμές σε όλες τις υπόλοιπες μετρικές. Αυτό υποδηλώνει ότι το μοντέλο K-Neighbors είναι επίσης πολύ ισχυρό για την ανίχνευση εισβολών στο συγκεκριμένο dataset, επιτυγχάνοντας ελαφρώς καλύτερα αποτελέσματα από το Decision Tree. Η πολύ καλή ισορροπία μεταξύ precision και recall υποδηλώνει ότι το μοντέλο είναι σταθερό και ακριβές.\n",
        "\n",
        "**Logistic Regression:**\n",
        "\n",
        "Το Logistic Regression είχε σχετικά καλή απόδοση με ακρίβεια 0.8738, αλλά δεν είναι τόσο αποδοτικό όσο τα άλλα δύο μοντέλα (Decision Tree και K-Neighbors). Ενώ το Logistic Regression είναι ένα απλό και ταχύτατο μοντέλο, φαίνεται να υπολείπεται σε σύγκριση με τα πιο πολύπλοκα μοντέλα που χρησιμοποιούν περισσότερες πληροφορίες για την ανίχνευση εισβολών.\n",
        "\n",
        "**Συμπεράσματα:**\n",
        "\n",
        "Τα μοντέλα Decision Tree και K-Neighbors είναι τα πιο κατάλληλα για την ανίχνευση εισβολών στο συγκεκριμένο dataset, με το K-Neighbors να υπερέχει ελαφρώς.\n",
        "Το Naive Bayes είναι το λιγότερο αποδοτικό μοντέλο και δεν ενδείκνυται για αυτή τη συγκεκριμένη εφαρμογή.\n",
        "Το Logistic Regression προσφέρει καλή απόδοση, αλλά υπολείπεται σε σύγκριση με τα πιο σύνθετα μοντέλα.\n",
        "Ανάλογα με τις ανάγκες για ταχύτητα και πόρους, μπορούμε να επιλέξουμε μεταξύ Decision Tree και K-Neighbors, με το τελευταίο να είναι ιδανικό εάν η υψηλότερη ακρίβεια είναι ο κύριος στόχος."
      ]
    }
  ],
  "metadata": {
    "colab": {
      "provenance": [],
      "include_colab_link": true
    },
    "kernelspec": {
      "display_name": "Python 3 (ipykernel)",
      "language": "python",
      "name": "python3"
    },
    "language_info": {
      "codemirror_mode": {
        "name": "ipython",
        "version": 3
      },
      "file_extension": ".py",
      "mimetype": "text/x-python",
      "name": "python",
      "nbconvert_exporter": "python",
      "pygments_lexer": "ipython3",
      "version": "3.11.7"
    }
  },
  "nbformat": 4,
  "nbformat_minor": 0
}